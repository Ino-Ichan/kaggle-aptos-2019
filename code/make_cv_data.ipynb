{
 "cells": [
  {
   "cell_type": "code",
   "execution_count": null,
   "metadata": {},
   "outputs": [],
   "source": [
    "import pandas as pd\n",
    "import numpy as np\n",
    "from sklearn.model_selection import StratifiedKFold, train_test_split"
   ]
  },
  {
   "cell_type": "code",
   "execution_count": null,
   "metadata": {},
   "outputs": [],
   "source": [
    "df_train = pd.read_csv('../data/train.csv')\n",
    "df_test = pd.read_csv('../data/test.csv')\n",
    "df_train.head()"
   ]
  },
  {
   "cell_type": "code",
   "execution_count": null,
   "metadata": {},
   "outputs": [],
   "source": [
    "kfold = StratifiedKFold(n_splits=4, random_state=516)\n",
    "\n",
    "for i, (train_index, val_index) in enumerate(kfold.split(df_train, df_train.diagnosis)):\n",
    "    train = df_train.loc[train_index, :]\n",
    "    valid = df_train.loc[val_index, :]\n",
    "    \n",
    "    print('*************')\n",
    "    print(train.head())\n",
    "    print(train.diagnosis.value_counts())\n",
    "    print(valid.diagnosis.value_counts())\n",
    "    \n",
    "    train.to_csv('./CV_data/train_cv{}.csv'.format(i+1), index=False)\n",
    "    valid.to_csv('./CV_data/valid_cv{}.csv'.format(i+1), index=False)"
   ]
  },
  {
   "cell_type": "code",
   "execution_count": null,
   "metadata": {},
   "outputs": [],
   "source": []
  }
 ],
 "metadata": {
  "kernelspec": {
   "display_name": "Python 3",
   "language": "python",
   "name": "python3"
  },
  "language_info": {
   "codemirror_mode": {
    "name": "ipython",
    "version": 3
   },
   "file_extension": ".py",
   "mimetype": "text/x-python",
   "name": "python",
   "nbconvert_exporter": "python",
   "pygments_lexer": "ipython3",
   "version": "3.7.3"
  }
 },
 "nbformat": 4,
 "nbformat_minor": 4
}
