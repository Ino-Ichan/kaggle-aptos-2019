{
 "cells": [
  {
   "cell_type": "code",
   "execution_count": null,
   "metadata": {},
   "outputs": [],
   "source": [
    "model_name = \"EfficientNetB2_224_regression\""
   ]
  },
  {
   "cell_type": "code",
   "execution_count": null,
   "metadata": {},
   "outputs": [],
   "source": [
    "import pandas as pd\n",
    "import numpy as np\n",
    "from sklearn.model_selection import StratifiedKFold, train_test_split\n",
    "import math\n",
    "import cv2\n",
    "\n",
    "from sklearn.metrics import cohen_kappa_score\n",
    "\n",
    "import matplotlib.pyplot as plt\n",
    "\n",
    "import gc\n",
    "from tqdm import tqdm\n",
    "\n",
    "import os\n",
    "import scipy as sp\n",
    "from functools import partial\n",
    "\n",
    "from nn_generator import PreTrainDataGenerator, TrainDataGenerator, TestDataGenerator\n",
    "from lib import plot_training\n",
    "\n",
    "# basic\n",
    "import keras\n",
    "from keras.models import Model\n",
    "from keras.layers import Input, Conv2D, Dense, Dropout, BatchNormalization\n",
    "from keras.layers import Flatten, GlobalAveragePooling2D, GlobalMaxPool2D, Softmax\n",
    "from keras.activations import elu\n",
    "from keras import optimizers\n",
    "from keras.utils import Sequence\n",
    "\n",
    "from keras.callbacks import EarlyStopping, ReduceLROnPlateau\n",
    "\n",
    "# model\n",
    "from keras.applications.resnet50 import ResNet50\n",
    "from keras.applications.inception_resnet_v2 import InceptionResNetV2\n",
    "from keras_applications.densenet import DenseNet121, DenseNet169\n",
    "from keras_applications.resnext import ResNeXt101\n",
    "from keras_applications.nasnet import NASNetMobile\n",
    "\n",
    "from efficientnet.keras import EfficientNetB5, EfficientNetB2"
   ]
  },
  {
   "cell_type": "code",
   "execution_count": null,
   "metadata": {},
   "outputs": [],
   "source": [
    "import tensorflow as tf\n",
    "from keras.backend.tensorflow_backend import set_session\n",
    "config = tf.ConfigProto(\n",
    "    gpu_options=tf.GPUOptions(\n",
    "        visible_device_list=\"0\", # specify GPU number\n",
    "        allow_growth=True\n",
    "    )\n",
    ")\n",
    "set_session(tf.Session(config=config))"
   ]
  },
  {
   "cell_type": "code",
   "execution_count": null,
   "metadata": {},
   "outputs": [],
   "source": [
    "df_train_15 = pd.read_csv('../data/trainLabels15.csv')\n",
    "df_train = pd.read_csv('../data/train.csv')\n",
    "df_test = pd.read_csv('../data/test.csv')\n",
    "df_train.head()"
   ]
  },
  {
   "cell_type": "code",
   "execution_count": null,
   "metadata": {},
   "outputs": [],
   "source": [
    "pretrain_img_path = \"../data/resized_train_15/\"\n",
    "img_size = 224"
   ]
  },
  {
   "cell_type": "code",
   "execution_count": null,
   "metadata": {},
   "outputs": [],
   "source": [
    "def get_train_model(class_num=5, img_size=224, optimizer=optimizers.Adam(lr=1e-4)):\n",
    "    inp = Input((img_size, img_size, 3))\n",
    "    \n",
    "    base_model = EfficientNetB2(include_top=False, weights=\"imagenet\", input_tensor=inp)\n",
    "    x = base_model(inp)\n",
    "    x = GlobalAveragePooling2D()(x)\n",
    "    x = Dropout(0.5)(x)\n",
    "    x = Dense(5, activation=elu)(x)\n",
    "    out = Dense(1, activation=\"linear\")(x)\n",
    "    \n",
    "    model = Model(inputs=inp, outputs=out)\n",
    "    model.compile(loss=\"mse\", optimizer=optimizer, metrics=[\"acc\"])\n",
    "    return model"
   ]
  },
  {
   "cell_type": "code",
   "execution_count": null,
   "metadata": {},
   "outputs": [],
   "source": [
    "# まずはじめに10 epochs学習する\n",
    "pretrain_generator = PreTrainDataGenerator(df=df_train_15, batch_size=16, img_size=224,\n",
    "                                           data_path=pretrain_img_path, augmentation=True, shuffle=True)\n",
    "first_val_generator = TrainDataGenerator(df=df_train, batch_size=16)\n",
    "\n",
    "model = get_train_model(img_size=img_size, class_num=5, optimizer=optimizers.Adam(lr=1e-4))\n",
    "\n",
    "print(\"*** Model summary ***\")\n",
    "print(model.summary())\n",
    "print(\"*********************\")\n",
    "\n",
    "history = model.fit_generator(pretrain_generator, epochs=10, validation_data=first_val_generator,\n",
    "                              steps_per_epoch=pretrain_generator.__len__(), verbose=1)\n",
    "\n",
    "plot_training(history)"
   ]
  },
  {
   "cell_type": "code",
   "execution_count": null,
   "metadata": {},
   "outputs": [],
   "source": [
    "# 10 epochs以降はearly stoppingでval_loss見て止める\n",
    "early_stopping = EarlyStopping(monitor=\"val_loss\", patience=2, restore_best_weights=True)\n",
    "reduce_lr = ReduceLROnPlateau(monitor=\"val_loss\", patience=1, factor=0.5, verbose=1)\n",
    "\n",
    "history = model.fit_generator(pretrain_generator, epochs=150, validation_data=first_val_generator,\n",
    "                              steps_per_epoch=pretrain_generator.__len__(),\n",
    "                              callbacks=[early_stopping, reduce_lr], verbose=1)\n",
    "\n",
    "plot_training(history)"
   ]
  },
  {
   "cell_type": "code",
   "execution_count": null,
   "metadata": {},
   "outputs": [],
   "source": [
    "model.save('./save/pretrain/'+model_name+\"_pretrain.h5\")"
   ]
  },
  {
   "cell_type": "code",
   "execution_count": null,
   "metadata": {},
   "outputs": [],
   "source": []
  },
  {
   "cell_type": "code",
   "execution_count": null,
   "metadata": {},
   "outputs": [],
   "source": []
  },
  {
   "cell_type": "code",
   "execution_count": null,
   "metadata": {},
   "outputs": [],
   "source": []
  },
  {
   "cell_type": "code",
   "execution_count": null,
   "metadata": {},
   "outputs": [],
   "source": []
  },
  {
   "cell_type": "code",
   "execution_count": null,
   "metadata": {},
   "outputs": [],
   "source": []
  },
  {
   "cell_type": "code",
   "execution_count": null,
   "metadata": {},
   "outputs": [],
   "source": []
  },
  {
   "cell_type": "code",
   "execution_count": null,
   "metadata": {},
   "outputs": [],
   "source": []
  }
 ],
 "metadata": {
  "kernelspec": {
   "display_name": "Python 3",
   "language": "python",
   "name": "python3"
  },
  "language_info": {
   "codemirror_mode": {
    "name": "ipython",
    "version": 3
   },
   "file_extension": ".py",
   "mimetype": "text/x-python",
   "name": "python",
   "nbconvert_exporter": "python",
   "pygments_lexer": "ipython3",
   "version": "3.7.3"
  }
 },
 "nbformat": 4,
 "nbformat_minor": 2
}
